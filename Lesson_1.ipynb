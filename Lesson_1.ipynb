{
 "cells": [
  {
   "cell_type": "markdown",
   "metadata": {},
   "source": [
    "# Introduction to Variables and Data Types in Python\n",
    "\n",
    "Welcome to the world of Python programming! In this lesson, we'll start building an RPG character to help us learn the basics of programming.\n",
    "\n",
    "---\n",
    "\n",
    "## Creating a Character\n",
    "\n",
    "Let's begin by creating a character named Bob. We'll define Bob's basic attributes: name, age, height, and whether they can cast spells.\n",
    "\n",
    "When describing Bob in plain English, we might say something like:\n",
    "\n",
    "- `Bob` is a `25-year-old` human who is `5 1/2` feet tall and `can cast spells`.\n",
    "\n",
    "From this description we can extract the following attributes:\n",
    "\n",
    "- `Name`: Bob\n",
    "- `Age`: 25\n",
    "- `Height`: 5.5 feet\n",
    "- `Can Cast Spells`: True\n",
    "\n",
    "So for our very first Python program, we'll print out all this information to be read easily by the user.  This can easily be done by using the `print()` function in Python."
   ]
  },
  {
   "cell_type": "code",
   "execution_count": 32,
   "metadata": {},
   "outputs": [
    {
     "name": "stdout",
     "output_type": "stream",
     "text": [
      "Bob is a 25-year-old human who is 5 1/2 feet tall and can cast spells.\n"
     ]
    }
   ],
   "source": [
    "print(\"Bob is a 25-year-old human who is 5 1/2 feet tall and can cast spells.\")"
   ]
  },
  {
   "cell_type": "markdown",
   "metadata": {},
   "source": [
    "Maybe we also want to note that Bob's birthday is on the third day of the year.  We can print this information as well."
   ]
  },
  {
   "cell_type": "code",
   "execution_count": 33,
   "metadata": {},
   "outputs": [
    {
     "name": "stdout",
     "output_type": "stream",
     "text": [
      "Bob turned 25 years old on the third day of the current year.\n"
     ]
    }
   ],
   "source": [
    "print(\"Bob turned 25 years old on the third day of the current year.\")"
   ]
  },
  {
   "cell_type": "markdown",
   "metadata": {},
   "source": [
    "But we're still in our initial character creation phase.  What if we wanted to change `Bob`'s age to `31`?  The most obvious way to do this would be to change what we're printing to include the new age."
   ]
  },
  {
   "cell_type": "code",
   "execution_count": 34,
   "metadata": {},
   "outputs": [
    {
     "name": "stdout",
     "output_type": "stream",
     "text": [
      "Bob is a 31-year-old human who is 5 1/2 feet tall and can cast spells.\n",
      "Bob turned 31 years old on the third day of the current year.\n"
     ]
    }
   ],
   "source": [
    "print(\"Bob is a 31-year-old human who is 5 1/2 feet tall and can cast spells.\")\n",
    "print(\"Bob turned 31 years old on the third day of the current year.\")"
   ]
  },
  {
   "cell_type": "markdown",
   "metadata": {},
   "source": [
    "That wasn't so bad.  At least not this time.\n",
    "\n",
    "**But imagine if we wanted to change `Bob`'s name everywhere above, not just in the code.**  Or maybe we want to allow the user to input their own character's information.  We would have to change every instance of `Bob`'s name in the code to the new name.  This could get very tedious very quickly.\n",
    "\n",
    "As I'm writing this, I've realized that `Bob` is a terrible name for our mythical hero.  I think `Kai` or `Rowan` would be much more fitting names. But if I want to change that now, I would have to go back and change so much.\n",
    "\n",
    "Thankfully, there's a better way to do this that fixes this problem exactly.  \n",
    "\n",
    "---\n",
    "\n",
    "### Introducing Variables\n",
    "Think of a variable as a container that holds a specific piece of information. We give each variable a name so that we can easily access and/or change its value later.\n",
    "\n",
    "Here's how we create variables for `Bob`'s attributes:"
   ]
  },
  {
   "cell_type": "code",
   "execution_count": 16,
   "metadata": {},
   "outputs": [],
   "source": [
    "name = \"Bob\"\n",
    "age = 25\n",
    "height = 5.5\n",
    "is_spellcaster = True"
   ]
  },
  {
   "cell_type": "markdown",
   "metadata": {},
   "source": [
    "In these lines of code:\n",
    "- `\"Bob\"` is a string (text) value, which we assign to the variable `name`.\n",
    "- `25` is an integer (whole number) value, which we assign to the variable `age`.\n",
    "- `5.5` is a float (decimal number) value, which we assign to the variable `height`.\n",
    "- `True` is a boolean (true/false) value, which we assign to the variable `is_spellcaster`.\n",
    "\n",
    "These different types of values are called *data types* in programming. Understanding data types is crucial because they determine how our variables act.  We'll see an example of this down further, when comparing addition and concatenation. \n",
    "\n",
    "---\n",
    "\n",
    "Let's use these variable we've created to print out our character's information, regardless of how the user sets it."
   ]
  },
  {
   "cell_type": "code",
   "execution_count": 17,
   "metadata": {},
   "outputs": [
    {
     "name": "stdout",
     "output_type": "stream",
     "text": [
      "Bob is a 25-year-old human who is 5.5 feet tall.\n",
      "Bob can cast spells: True\n",
      "Bob turned 25 years old on the third day of the current year.\n"
     ]
    }
   ],
   "source": [
    "print(f\"{name} is a {age}-year-old human who is {height} feet tall.\")\n",
    "print(f\"{name} can cast spells: {is_spellcaster}\")\n",
    "print(f\"{name} turned {age} years old on the third day of the current year.\")"
   ]
  },
  {
   "cell_type": "markdown",
   "metadata": {},
   "source": [
    "This code is looking back at our variables and printing them out in a way that makes sense to the user.\n",
    "\n",
    "---\n",
    "\n",
    "### Practice Time!\n",
    "\n",
    "Now jump back up to where we set the variables for Bob's attributes.  Change the values of the variables to whatever you want (preferably choose a more fitting name for our character).  Then run the code again to see how the output changes!\n",
    "\n",
    "---\n",
    "\n",
    "### Doing a tiny bit of math\n",
    "\n",
    "Now we skip forward in time to our character's next birthday.  They are now 1 year older.  We can easily update the age variable to reflect this change.\n",
    "\n",
    "We do this by reassigning the variable `age` to the value of `age + 1`.  This is a simple way to update the value of a variable based on its current value."
   ]
  },
  {
   "cell_type": "code",
   "execution_count": 35,
   "metadata": {},
   "outputs": [
    {
     "name": "stdout",
     "output_type": "stream",
     "text": [
      "Bob is a 26-year-old human who is 5.5 feet tall and can cast spells.\n",
      "Bob had a birthday and is now 27 years old.\n"
     ]
    }
   ],
   "source": [
    "print(f\"{name} is a {age}-year-old human who is {height} feet tall and can cast spells.\")\n",
    "\n",
    "age = age + 1\n",
    "\n",
    "print(f\"{name} had a birthday and is now {age} years old.\")"
   ]
  },
  {
   "cell_type": "markdown",
   "metadata": {},
   "source": [
    "---\n",
    "\n",
    "### Introducing `+`\n",
    "\n",
    "Another way to print out our character's information is to concatenate the strings together.  This is done by using the `+` operator between strings.  This is different than adding numbers together, but we'll get to that in a moment.\n",
    "\n",
    "Here's an example of this alternative way to print out our character's information:\n",
    "\n"
   ]
  },
  {
   "cell_type": "code",
   "execution_count": 36,
   "metadata": {},
   "outputs": [
    {
     "name": "stdout",
     "output_type": "stream",
     "text": [
      "Bob is a 27-year-old human who is 5.5 feet tall and can cast spells.\n"
     ]
    }
   ],
   "source": [
    "print(name + \" is a \" + str(age) + \"-year-old human who is \" + str(height) + \" feet tall and can cast spells.\")"
   ]
  },
  {
   "cell_type": "markdown",
   "metadata": {},
   "source": [
    "So that's kind of cool, right?  We're used to using the `+` operator to add numbers together, but in Python we can also use it to join strings together.  This is a very useful feature that we may use later.\n",
    "\n",
    "But why do we use `str(age)` instead of just `age` in that code?\n",
    "\n",
    "Well, let's try that same code without converting the `age` or `height` variables to a string and see what happens."
   ]
  },
  {
   "cell_type": "code",
   "execution_count": 37,
   "metadata": {},
   "outputs": [
    {
     "ename": "TypeError",
     "evalue": "can only concatenate str (not \"int\") to str",
     "output_type": "error",
     "traceback": [
      "\u001b[0;31m---------------------------------------------------------------------------\u001b[0m",
      "\u001b[0;31mTypeError\u001b[0m                                 Traceback (most recent call last)",
      "Cell \u001b[0;32mIn[37], line 1\u001b[0m\n\u001b[0;32m----> 1\u001b[0m \u001b[38;5;28mprint\u001b[39m(\u001b[43mname\u001b[49m\u001b[43m \u001b[49m\u001b[38;5;241;43m+\u001b[39;49m\u001b[43m \u001b[49m\u001b[38;5;124;43m\"\u001b[39;49m\u001b[38;5;124;43m is a \u001b[39;49m\u001b[38;5;124;43m\"\u001b[39;49m\u001b[43m \u001b[49m\u001b[38;5;241;43m+\u001b[39;49m\u001b[43m \u001b[49m\u001b[43mage\u001b[49m \u001b[38;5;241m+\u001b[39m \u001b[38;5;124m\"\u001b[39m\u001b[38;5;124m-year-old human who is \u001b[39m\u001b[38;5;124m\"\u001b[39m \u001b[38;5;241m+\u001b[39m height \u001b[38;5;241m+\u001b[39m \u001b[38;5;124m\"\u001b[39m\u001b[38;5;124m feet tall and can cast spells.\u001b[39m\u001b[38;5;124m\"\u001b[39m)\n",
      "\u001b[0;31mTypeError\u001b[0m: can only concatenate str (not \"int\") to str"
     ]
    }
   ],
   "source": [
    "print(name + \" is a \" + age + \"-year-old human who is \" + height + \" feet tall and can cast spells.\")"
   ]
  },
  {
   "cell_type": "markdown",
   "metadata": {},
   "source": [
    "**This is our first error message!**\n",
    "\n",
    "If we read the error message, it is telling us that we cannot concatenate a string with an integer."
   ]
  },
  {
   "cell_type": "code",
   "execution_count": 38,
   "metadata": {},
   "outputs": [
    {
     "name": "stdout",
     "output_type": "stream",
     "text": [
      "Our character's name is Bob.\n",
      "32\n"
     ]
    }
   ],
   "source": [
    "# So we can add strings together, like this\n",
    "print(\"Our character's name is \" + name + \".\")\n",
    "\n",
    "# Or add numbers together, like this\n",
    "print(age + 5)"
   ]
  },
  {
   "cell_type": "code",
   "execution_count": 39,
   "metadata": {},
   "outputs": [
    {
     "ename": "TypeError",
     "evalue": "unsupported operand type(s) for +: 'int' and 'str'",
     "output_type": "error",
     "traceback": [
      "\u001b[0;31m---------------------------------------------------------------------------\u001b[0m",
      "\u001b[0;31mTypeError\u001b[0m                                 Traceback (most recent call last)",
      "Cell \u001b[0;32mIn[39], line 2\u001b[0m\n\u001b[1;32m      1\u001b[0m \u001b[38;5;66;03m# But we can't add strings and numbers together, like this\u001b[39;00m\n\u001b[0;32m----> 2\u001b[0m \u001b[38;5;28mprint\u001b[39m(\u001b[43mage\u001b[49m\u001b[43m \u001b[49m\u001b[38;5;241;43m+\u001b[39;49m\u001b[43m \u001b[49m\u001b[43mname\u001b[49m)\n",
      "\u001b[0;31mTypeError\u001b[0m: unsupported operand type(s) for +: 'int' and 'str'"
     ]
    }
   ],
   "source": [
    "# But we can't add strings and numbers together, like this\n",
    "print(age + name)"
   ]
  },
  {
   "cell_type": "code",
   "execution_count": 40,
   "metadata": {},
   "outputs": [
    {
     "name": "stdout",
     "output_type": "stream",
     "text": [
      "27Bob\n"
     ]
    }
   ],
   "source": [
    "# Unless we convert the number to a string, like so\n",
    "print(str(age) + name)"
   ]
  },
  {
   "cell_type": "markdown",
   "metadata": {},
   "source": [
    "This last thing we did is kind of funny.  We just mashed the age and name together into a single string without any spaces.  But we can fix that later.\n",
    "\n",
    "At least we know what we can and cannot do with the `+` operator now!\n",
    "\n",
    "Finally, if you were wondering what the `#` symbol is for in the code up aboce, it is used to write comments in Python.  Comments are ignored by the Python interpreter and are used to explain what the code is doing, so you can write plain english in your code file without Python throwing a fit!  This is very useful for explaining what you are trying to do with your code, either to other people or to yourself tomorrow."
   ]
  },
  {
   "cell_type": "markdown",
   "metadata": {},
   "source": [
    "\n",
    "---\n",
    "\n",
    "📝 **Mini-Project**\n",
    "\n",
    "1. Create variables for your own character's name, age, height, and a boolean attribute.\n",
    "2. Print a sentence introducing your character, including their name and age.\n",
    "3. It's your character's birthday! Increase their age by 1 and print a celebratory message.\n",
    "4. Experiment with concatenating different combinations of strings and numbers, observing the results and thinking about the difference between addition and concatenation.\n",
    "\n",
    "---"
   ]
  }
 ],
 "metadata": {
  "kernelspec": {
   "display_name": "Python 3",
   "language": "python",
   "name": "python3"
  },
  "language_info": {
   "codemirror_mode": {
    "name": "ipython",
    "version": 3
   },
   "file_extension": ".py",
   "mimetype": "text/x-python",
   "name": "python",
   "nbconvert_exporter": "python",
   "pygments_lexer": "ipython3",
   "version": "3.12.2"
  }
 },
 "nbformat": 4,
 "nbformat_minor": 2
}
